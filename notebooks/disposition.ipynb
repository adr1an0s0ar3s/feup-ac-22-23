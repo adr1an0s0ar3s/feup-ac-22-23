{
 "cells": [
  {
   "cell_type": "markdown",
   "metadata": {},
   "source": [
    "# Setup"
   ]
  },
  {
   "cell_type": "code",
   "execution_count": null,
   "metadata": {},
   "outputs": [],
   "source": [
    "import sqlite3\n",
    "import pandas as pd\n",
    "import seaborn as sns\n",
    "import matplotlib.pylab as plt"
   ]
  },
  {
   "cell_type": "code",
   "execution_count": null,
   "metadata": {},
   "outputs": [],
   "source": [
    "con = sqlite3.connect('../data/database.db')\n",
    "df = pd.read_sql_query('SELECT * FROM disp;', con, index_col='id')\n",
    "df.head()"
   ]
  },
  {
   "cell_type": "markdown",
   "metadata": {},
   "source": [
    "# Analysing type distribution"
   ]
  },
  {
   "cell_type": "code",
   "execution_count": null,
   "metadata": {},
   "outputs": [],
   "source": [
    "print(df['type'].unique())"
   ]
  },
  {
   "cell_type": "code",
   "execution_count": null,
   "metadata": {},
   "outputs": [],
   "source": [
    "ax = sns.countplot(df, x='type')\n",
    "ax.bar_label(ax.containers[0])\n",
    "plt.xticks(rotation=10)"
   ]
  },
  {
   "cell_type": "markdown",
   "metadata": {},
   "source": [
    "The type `OWNER` is more than 5 times more common that the `DISPONENT` type."
   ]
  },
  {
   "cell_type": "markdown",
   "metadata": {},
   "source": [
    "# Analysing accounts and clients"
   ]
  },
  {
   "cell_type": "code",
   "execution_count": null,
   "metadata": {},
   "outputs": [],
   "source": [
    "grouped_clients = pd.read_sql_query('SELECT clientId, COUNT(*) AS cnt FROM disp GROUP BY clientId;', con)\n",
    "print(\"Number of clients that have multiple accounts:\", len(grouped_clients[grouped_clients['cnt'] > 1]))"
   ]
  },
  {
   "cell_type": "code",
   "execution_count": null,
   "metadata": {},
   "outputs": [],
   "source": [
    "grouped_accounts = pd.read_sql_query('SELECT accountId, COUNT(*) AS cnt FROM disp GROUP BY accountId;', con)\n",
    "print(\"Number of accounts that have multiple clients:\", len(grouped_accounts[grouped_accounts['cnt'] > 1]))"
   ]
  }
 ],
 "metadata": {
  "kernelspec": {
   "display_name": "Python 3.10.6 ('venv': venv)",
   "language": "python",
   "name": "python3"
  },
  "language_info": {
   "codemirror_mode": {
    "name": "ipython",
    "version": 3
   },
   "file_extension": ".py",
   "mimetype": "text/x-python",
   "name": "python",
   "nbconvert_exporter": "python",
   "pygments_lexer": "ipython3",
   "version": "3.10.6"
  },
  "orig_nbformat": 4,
  "vscode": {
   "interpreter": {
    "hash": "f80a6ba3112fad8e71562159025b443f7e98403bc8a61f4e8a9f57fa88b33d4d"
   }
  }
 },
 "nbformat": 4,
 "nbformat_minor": 2
}
